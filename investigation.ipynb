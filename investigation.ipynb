{
 "cells": [
  {
   "cell_type": "code",
   "execution_count": 1,
   "metadata": {},
   "outputs": [],
   "source": [
    "import pandas as pd\n",
    "import gspread"
   ]
  },
  {
   "cell_type": "code",
   "execution_count": 3,
   "metadata": {},
   "outputs": [
    {
     "ename": "MalformedError",
     "evalue": "Service account info was not in the expected format, missing fields client_email.",
     "output_type": "error",
     "traceback": [
      "\u001b[1;31m---------------------------------------------------------------------------\u001b[0m",
      "\u001b[1;31mMalformedError\u001b[0m                            Traceback (most recent call last)",
      "Cell \u001b[1;32mIn[3], line 1\u001b[0m\n\u001b[1;32m----> 1\u001b[0m gc \u001b[39m=\u001b[39m gspread\u001b[39m.\u001b[39;49mservice_account()\n\u001b[0;32m      3\u001b[0m sh \u001b[39m=\u001b[39m gc\u001b[39m.\u001b[39mopen(\u001b[39m\"\u001b[39m\u001b[39mExample spreadsheet\u001b[39m\u001b[39m\"\u001b[39m)\n\u001b[0;32m      5\u001b[0m \u001b[39mprint\u001b[39m(sh\u001b[39m.\u001b[39msheet1\u001b[39m.\u001b[39mget(\u001b[39m'\u001b[39m\u001b[39mA1\u001b[39m\u001b[39m'\u001b[39m))\n",
      "File \u001b[1;32mc:\\Users\\Man\\AppData\\Local\\Programs\\Python\\Python311\\Lib\\site-packages\\gspread\\auth.py:312\u001b[0m, in \u001b[0;36mservice_account\u001b[1;34m(filename, scopes, client_factory)\u001b[0m\n\u001b[0;32m    283\u001b[0m \u001b[39mdef\u001b[39;00m \u001b[39mservice_account\u001b[39m(\n\u001b[0;32m    284\u001b[0m     filename\u001b[39m=\u001b[39mDEFAULT_SERVICE_ACCOUNT_FILENAME,\n\u001b[0;32m    285\u001b[0m     scopes\u001b[39m=\u001b[39mDEFAULT_SCOPES,\n\u001b[0;32m    286\u001b[0m     client_factory\u001b[39m=\u001b[39mClient,\n\u001b[0;32m    287\u001b[0m ):\n\u001b[0;32m    288\u001b[0m \u001b[39m    \u001b[39m\u001b[39m\"\"\"Authenticate using a service account.\u001b[39;00m\n\u001b[0;32m    289\u001b[0m \n\u001b[0;32m    290\u001b[0m \u001b[39m    ``scopes`` parameter defaults to read/write scope available in\u001b[39;00m\n\u001b[1;32m   (...)\u001b[0m\n\u001b[0;32m    310\u001b[0m \u001b[39m    :rtype: :class:`gspread.client.Client`\u001b[39;00m\n\u001b[0;32m    311\u001b[0m \u001b[39m    \"\"\"\u001b[39;00m\n\u001b[1;32m--> 312\u001b[0m     creds \u001b[39m=\u001b[39m ServiceAccountCredentials\u001b[39m.\u001b[39;49mfrom_service_account_file(filename, scopes\u001b[39m=\u001b[39;49mscopes)\n\u001b[0;32m    313\u001b[0m     \u001b[39mreturn\u001b[39;00m client_factory(auth\u001b[39m=\u001b[39mcreds)\n",
      "File \u001b[1;32mc:\\Users\\Man\\AppData\\Local\\Programs\\Python\\Python311\\Lib\\site-packages\\google\\oauth2\\service_account.py:241\u001b[0m, in \u001b[0;36mCredentials.from_service_account_file\u001b[1;34m(cls, filename, **kwargs)\u001b[0m\n\u001b[0;32m    229\u001b[0m \u001b[39m@classmethod\u001b[39m\n\u001b[0;32m    230\u001b[0m \u001b[39mdef\u001b[39;00m \u001b[39mfrom_service_account_file\u001b[39m(\u001b[39mcls\u001b[39m, filename, \u001b[39m*\u001b[39m\u001b[39m*\u001b[39mkwargs):\n\u001b[0;32m    231\u001b[0m \u001b[39m    \u001b[39m\u001b[39m\"\"\"Creates a Credentials instance from a service account json file.\u001b[39;00m\n\u001b[0;32m    232\u001b[0m \n\u001b[0;32m    233\u001b[0m \u001b[39m    Args:\u001b[39;00m\n\u001b[1;32m   (...)\u001b[0m\n\u001b[0;32m    239\u001b[0m \u001b[39m            credentials.\u001b[39;00m\n\u001b[0;32m    240\u001b[0m \u001b[39m    \"\"\"\u001b[39;00m\n\u001b[1;32m--> 241\u001b[0m     info, signer \u001b[39m=\u001b[39m _service_account_info\u001b[39m.\u001b[39;49mfrom_filename(\n\u001b[0;32m    242\u001b[0m         filename, require\u001b[39m=\u001b[39;49m[\u001b[39m\"\u001b[39;49m\u001b[39mclient_email\u001b[39;49m\u001b[39m\"\u001b[39;49m, \u001b[39m\"\u001b[39;49m\u001b[39mtoken_uri\u001b[39;49m\u001b[39m\"\u001b[39;49m]\n\u001b[0;32m    243\u001b[0m     )\n\u001b[0;32m    244\u001b[0m     \u001b[39mreturn\u001b[39;00m \u001b[39mcls\u001b[39m\u001b[39m.\u001b[39m_from_signer_and_info(signer, info, \u001b[39m*\u001b[39m\u001b[39m*\u001b[39mkwargs)\n",
      "File \u001b[1;32mc:\\Users\\Man\\AppData\\Local\\Programs\\Python\\Python311\\Lib\\site-packages\\google\\auth\\_service_account_info.py:82\u001b[0m, in \u001b[0;36mfrom_filename\u001b[1;34m(filename, require, use_rsa_signer)\u001b[0m\n\u001b[0;32m     80\u001b[0m \u001b[39mwith\u001b[39;00m io\u001b[39m.\u001b[39mopen(filename, \u001b[39m\"\u001b[39m\u001b[39mr\u001b[39m\u001b[39m\"\u001b[39m, encoding\u001b[39m=\u001b[39m\u001b[39m\"\u001b[39m\u001b[39mutf-8\u001b[39m\u001b[39m\"\u001b[39m) \u001b[39mas\u001b[39;00m json_file:\n\u001b[0;32m     81\u001b[0m     data \u001b[39m=\u001b[39m json\u001b[39m.\u001b[39mload(json_file)\n\u001b[1;32m---> 82\u001b[0m     \u001b[39mreturn\u001b[39;00m data, from_dict(data, require\u001b[39m=\u001b[39;49mrequire, use_rsa_signer\u001b[39m=\u001b[39;49muse_rsa_signer)\n",
      "File \u001b[1;32mc:\\Users\\Man\\AppData\\Local\\Programs\\Python\\Python311\\Lib\\site-packages\\google\\auth\\_service_account_info.py:52\u001b[0m, in \u001b[0;36mfrom_dict\u001b[1;34m(data, require, use_rsa_signer)\u001b[0m\n\u001b[0;32m     49\u001b[0m missing \u001b[39m=\u001b[39m keys_needed\u001b[39m.\u001b[39mdifference(six\u001b[39m.\u001b[39miterkeys(data))\n\u001b[0;32m     51\u001b[0m \u001b[39mif\u001b[39;00m missing:\n\u001b[1;32m---> 52\u001b[0m     \u001b[39mraise\u001b[39;00m exceptions\u001b[39m.\u001b[39mMalformedError(\n\u001b[0;32m     53\u001b[0m         \u001b[39m\"\u001b[39m\u001b[39mService account info was not in the expected format, missing \u001b[39m\u001b[39m\"\u001b[39m\n\u001b[0;32m     54\u001b[0m         \u001b[39m\"\u001b[39m\u001b[39mfields \u001b[39m\u001b[39m{}\u001b[39;00m\u001b[39m.\u001b[39m\u001b[39m\"\u001b[39m\u001b[39m.\u001b[39mformat(\u001b[39m\"\u001b[39m\u001b[39m, \u001b[39m\u001b[39m\"\u001b[39m\u001b[39m.\u001b[39mjoin(missing))\n\u001b[0;32m     55\u001b[0m     )\n\u001b[0;32m     57\u001b[0m \u001b[39m# Create a signer.\u001b[39;00m\n\u001b[0;32m     58\u001b[0m \u001b[39mif\u001b[39;00m use_rsa_signer:\n",
      "\u001b[1;31mMalformedError\u001b[0m: Service account info was not in the expected format, missing fields client_email."
     ]
    }
   ],
   "source": [
    "\n",
    "gc = gspread.service_account()\n",
    "\n",
    "sh = gc.open(\"Example spreadsheet\")\n",
    "\n",
    "print(sh.sheet1.get('A1'))"
   ]
  }
 ],
 "metadata": {
  "kernelspec": {
   "display_name": "Python 3",
   "language": "python",
   "name": "python3"
  },
  "language_info": {
   "codemirror_mode": {
    "name": "ipython",
    "version": 3
   },
   "file_extension": ".py",
   "mimetype": "text/x-python",
   "name": "python",
   "nbconvert_exporter": "python",
   "pygments_lexer": "ipython3",
   "version": "3.11.1"
  },
  "orig_nbformat": 4
 },
 "nbformat": 4,
 "nbformat_minor": 2
}
