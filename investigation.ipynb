{
 "cells": [
  {
   "cell_type": "code",
   "execution_count": null,
   "metadata": {},
   "outputs": [],
   "source": [
    "import pandas as pd\n",
    "import gspread"
   ]
  },
  {
   "cell_type": "code",
   "execution_count": 37,
   "metadata": {},
   "outputs": [
    {
     "data": {
      "text/html": [
       "<div>\n",
       "<style scoped>\n",
       "    .dataframe tbody tr th:only-of-type {\n",
       "        vertical-align: middle;\n",
       "    }\n",
       "\n",
       "    .dataframe tbody tr th {\n",
       "        vertical-align: top;\n",
       "    }\n",
       "\n",
       "    .dataframe thead th {\n",
       "        text-align: right;\n",
       "    }\n",
       "</style>\n",
       "<table border=\"1\" class=\"dataframe\">\n",
       "  <thead>\n",
       "    <tr style=\"text-align: right;\">\n",
       "      <th></th>\n",
       "      <th>ID</th>\n",
       "      <th>CPU</th>\n",
       "      <th>Damage</th>\n",
       "      <th>ROF</th>\n",
       "      <th>DPS</th>\n",
       "      <th>Price</th>\n",
       "      <th>Flag1</th>\n",
       "      <th>Flag2</th>\n",
       "      <th>Contract</th>\n",
       "      <th>Unit</th>\n",
       "    </tr>\n",
       "  </thead>\n",
       "  <tbody>\n",
       "  </tbody>\n",
       "</table>\n",
       "</div>"
      ],
      "text/plain": [
       "Empty DataFrame\n",
       "Columns: [ID, CPU, Damage, ROF, DPS, Price, Flag1, Flag2, Contract, Unit]\n",
       "Index: []"
      ]
     },
     "execution_count": 37,
     "metadata": {},
     "output_type": "execute_result"
    }
   ],
   "source": [
    "data = pd.read_csv(f\".\\webcrawler\\GyroStabOutput.csv\") \n",
    "data = data.drop_duplicates(keep=\"first\")\n",
    "\n",
    "data[\"Price\"] = data[\"Price\"].astype(int)\n",
    "data[\"Unit\"] = data[\"Unit\"].fillna(\"plex\")\n",
    "data[\"Contract\"] = data[\"Contract\"].astype(str)\n",
    "\n",
    "def price_norm(row):\n",
    "    if \"billion\" in row[\"Unit\"]:\n",
    "        return row[\"Price\"] * 1000000000\n",
    "    elif \"million\" in row[\"Unit\"]:\n",
    "        return row[\"Price\"] * 1000000 \n",
    "    elif \"plex\" in row[\"Unit\"]:\n",
    "        return row[\"Price\"] * 5100000\n",
    "    else:\n",
    "        return row[\"Price\"]\n",
    "\n",
    "data['Price'] = data.apply(lambda row: price_norm(row), axis=1)"
   ]
  }
 ],
 "metadata": {
  "kernelspec": {
   "display_name": "Python 3",
   "language": "python",
   "name": "python3"
  },
  "language_info": {
   "codemirror_mode": {
    "name": "ipython",
    "version": 3
   },
   "file_extension": ".py",
   "mimetype": "text/x-python",
   "name": "python",
   "nbconvert_exporter": "python",
   "pygments_lexer": "ipython3",
   "version": "3.11.1"
  },
  "orig_nbformat": 4
 },
 "nbformat": 4,
 "nbformat_minor": 2
}
